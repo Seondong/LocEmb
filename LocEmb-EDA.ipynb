{
 "cells": [
  {
   "cell_type": "markdown",
   "metadata": {},
   "source": [
    "# LocEmb: Location Embedding\n",
    "\n",
    "만든 이: 김선동 (http://seondong.github.io)\n",
    "\n",
    "### 프로젝트 목표\n",
    "* 전국 지역 단위별 embedding을 제공하고자 함\n",
    "* 도로명, 상권, 사업자 등으로 확장 가능\n",
    "\n",
    "### 사용 가능한 프로젝트\n",
    "* 전염병 모델 개발시 pretrained된 지역별 embedding값을 covariate으로 활용\n",
    "* 장소 추천/ 예측 모델에 pretrained된 embedding값을 활용\n",
    "\n",
    "### 사용한 알고리즘\n",
    "* [NeurIPS2017](https://papers.nips.cc/paper/7213-poincare-embeddings-for-learning-hierarchical-representations)을 기반으로 다양한 feature를 추가하였음"
   ]
  },
  {
   "cell_type": "markdown",
   "metadata": {},
   "source": [
    "## Fine-grained Embedding: 법정동2vec"
   ]
  },
  {
   "cell_type": "code",
   "execution_count": 1,
   "metadata": {},
   "outputs": [],
   "source": [
    "import pandas as pd\n",
    "import numpy as np\n",
    "\n",
    "pd.set_option('display.width', 1000)\n",
    "pd.options.display.max_colwidth = 100"
   ]
  },
  {
   "cell_type": "markdown",
   "metadata": {},
   "source": [
    "### Train된 vector 로드\n"
   ]
  },
  {
   "cell_type": "code",
   "execution_count": 2,
   "metadata": {},
   "outputs": [],
   "source": [
    "emb_rslt = pd.read_csv(\"embedding+법정동명전체.csv\",index_col=0)"
   ]
  },
  {
   "cell_type": "code",
   "execution_count": 13,
   "metadata": {},
   "outputs": [
    {
     "data": {
      "text/plain": [
       "(5005, 100)"
      ]
     },
     "execution_count": 13,
     "metadata": {},
     "output_type": "execute_result"
    }
   ],
   "source": [
    "emb_rslt.shape"
   ]
  },
  {
   "cell_type": "code",
   "execution_count": 4,
   "metadata": {},
   "outputs": [
    {
     "data": {
      "text/plain": [
       "Index(['서울특별시 강남구 대치동', '서울특별시 강남구 역삼동', '서울특별시 금천구 독산동', '부산광역시 사상구 괘법동', '서울특별시 송파구 석촌동', '서울특별시 송파구 신천동', '서울특별시 광진구 구의동', '서울특별시 강서구 공항동', '서울특별시 중구 신당동', '서울특별시 강서구 화곡동',\n",
       "       ...\n",
       "       '전라북도 군산시 송창동', '전라남도 나주시 진포동', '경상북도 영천시 범어동', '경상남도 창원시 진해구 현동', '전라북도 익산시 은기동', '경상남도 창원시 진해구 대영동', '충청남도 홍성군 홍북읍', '전라북도 전주시 덕진구 중동', '경상남도 창원시 성산구 완암동', '경상북도 청송군 주왕산면'], dtype='object', length=5005)"
      ]
     },
     "execution_count": 4,
     "metadata": {},
     "output_type": "execute_result"
    }
   ],
   "source": [
    "emb_rslt.index"
   ]
  },
  {
   "cell_type": "code",
   "execution_count": 14,
   "metadata": {},
   "outputs": [
    {
     "data": {
      "text/plain": [
       "0    -0.087874\n",
       "1    -0.114864\n",
       "2     0.004811\n",
       "3     0.127094\n",
       "4    -0.011671\n",
       "        ...   \n",
       "95   -0.036444\n",
       "96    0.003220\n",
       "97   -0.089285\n",
       "98    0.101847\n",
       "99    0.110275\n",
       "Name: 대전광역시 유성구 도룡동, Length: 100, dtype: float64"
      ]
     },
     "execution_count": 14,
     "metadata": {},
     "output_type": "execute_result"
    }
   ],
   "source": [
    "emb_rslt.loc['대전광역시 유성구 도룡동']"
   ]
  },
  {
   "cell_type": "markdown",
   "metadata": {},
   "source": [
    "### 법정동 임베딩간 유사도 체크"
   ]
  },
  {
   "cell_type": "code",
   "execution_count": 27,
   "metadata": {},
   "outputs": [],
   "source": [
    "from scipy.spatial.distance import cosine\n",
    "import operator\n",
    "\n",
    "def print_top_n_similar(query, topn=10, emb_rslt=emb_rslt):\n",
    "    dembs = {}\n",
    "    for i in emb_rslt.index:\n",
    "        dembs[i] = np.array(emb_rslt.loc[i])\n",
    "    \n",
    "    distance = {}\n",
    "    for i in dembs:\n",
    "        distance[i] = cosine(dembs[query], dembs[i])\n",
    "    return sorted(distance.items(), key=operator.itemgetter(1))[:topn]"
   ]
  },
  {
   "cell_type": "code",
   "execution_count": 28,
   "metadata": {},
   "outputs": [
    {
     "data": {
      "text/plain": [
       "[('대전광역시 유성구 도룡동', 0.0),\n",
       " ('대전광역시 유성구 구성동', 7.756681658888098e-05),\n",
       " ('대전광역시 유성구 원촌동', 0.00016194637077715512),\n",
       " ('대전광역시 유성구 문지동', 0.00016923340027985567),\n",
       " ('대전광역시 유성구 어은동', 0.00018336129315243976),\n",
       " ('대전광역시 유성구 봉산동', 0.00023518063703176217),\n",
       " ('대전광역시 유성구 송강동', 0.0002522336446157958),\n",
       " ('대전광역시 유성구 가정동', 0.00025539198655544215),\n",
       " ('대전광역시 유성구 탑립동', 0.00025772888606900857),\n",
       " ('대전광역시 유성구 전민동', 0.0002632907703313814)]"
      ]
     },
     "execution_count": 28,
     "metadata": {},
     "output_type": "execute_result"
    }
   ],
   "source": [
    "print_top_n_similar('대전광역시 유성구 도룡동', topn=10, emb_rslt=emb_rslt)"
   ]
  },
  {
   "cell_type": "code",
   "execution_count": 29,
   "metadata": {},
   "outputs": [
    {
     "data": {
      "text/plain": [
       "[('서울특별시 강남구 역삼동', 0.0),\n",
       " ('서울특별시 강남구 도곡동', 5.553251200007825e-05),\n",
       " ('서울특별시 강남구 신사동', 0.0008411147702315214),\n",
       " ('서울특별시 강남구 압구정동', 0.0010364048284876581),\n",
       " ('서울특별시 강남구 청담동', 0.001512464828460125),\n",
       " ('서울특별시 강남구 개포동', 0.0016853575239820229),\n",
       " ('서울특별시 강남구 삼성동', 0.0017003316565548099),\n",
       " ('서울특별시 서초구 내곡동', 0.0022217665359263172),\n",
       " ('서울특별시 강남구 논현동', 0.002876682417759291),\n",
       " ('서울특별시 강남구 대치동', 0.0036542228856494274)]"
      ]
     },
     "execution_count": 29,
     "metadata": {},
     "output_type": "execute_result"
    }
   ],
   "source": [
    "print_top_n_similar('서울특별시 강남구 역삼동', topn=10)"
   ]
  },
  {
   "cell_type": "code",
   "execution_count": 30,
   "metadata": {},
   "outputs": [
    {
     "data": {
      "text/plain": [
       "[('경기도 성남시 분당구 정자동', 0.0),\n",
       " ('경기도 성남시 분당구 궁내동', 0.00015702315321608484),\n",
       " ('경기도 성남시 분당구 수내동', 0.00015757236968294563),\n",
       " ('경기도 성남시 분당구 하산운동', 0.00017317895930502036),\n",
       " ('경기도 성남시 분당구 백현동', 0.0003642213020209617),\n",
       " ('경기도 성남시 분당구 판교동', 0.00039670329685270733),\n",
       " ('경기도 성남시 분당구 이매동', 0.00041765609931143644),\n",
       " ('경기도 성남시 분당구 서현동', 0.0004946275471395811),\n",
       " ('경기도 성남시 분당구 운중동', 0.0007095301638749829),\n",
       " ('경기도 성남시 분당구 율동', 0.0010721668870529166)]"
      ]
     },
     "execution_count": 30,
     "metadata": {},
     "output_type": "execute_result"
    }
   ],
   "source": [
    "print_top_n_similar('경기도 성남시 분당구 정자동')"
   ]
  },
  {
   "cell_type": "markdown",
   "metadata": {},
   "source": [
    "## Coarse-grained Embedding: 시군구2vec"
   ]
  },
  {
   "cell_type": "code",
   "execution_count": 17,
   "metadata": {},
   "outputs": [],
   "source": [
    "emb_rslt2 = pd.read_csv(\"embedding+시군구명전체.csv\",index_col=0)"
   ]
  },
  {
   "cell_type": "code",
   "execution_count": 34,
   "metadata": {},
   "outputs": [
    {
     "data": {
      "text/plain": [
       "(251, 100)"
      ]
     },
     "execution_count": 34,
     "metadata": {},
     "output_type": "execute_result"
    }
   ],
   "source": [
    "emb_rslt2.shape"
   ]
  },
  {
   "cell_type": "code",
   "execution_count": 35,
   "metadata": {},
   "outputs": [
    {
     "data": {
      "text/plain": [
       "Index(['서울특별시 강남구', '서울특별시 금천구', '부산광역시 사상구', '서울특별시 송파구', '서울특별시 광진구', '서울특별시 강서구', '서울특별시 중구', '서울특별시 서초구', '서울특별시 성북구', '서울특별시 구로구',\n",
       "       ...\n",
       "       '경상북도 고령군', '전라남도 장흥군', '전라남도 영암군', '전라남도 진도군', '전라북도 부안군', '충청남도 예산군', '경상북도 영양군', '전라북도 완주군', '전라북도 무주군', '충청남도 서천군'], dtype='object', length=251)"
      ]
     },
     "execution_count": 35,
     "metadata": {},
     "output_type": "execute_result"
    }
   ],
   "source": [
    "emb_rslt2.index"
   ]
  },
  {
   "cell_type": "code",
   "execution_count": 37,
   "metadata": {},
   "outputs": [
    {
     "data": {
      "text/plain": [
       "0    -0.083019\n",
       "1    -0.110454\n",
       "2     0.007679\n",
       "3     0.120221\n",
       "4    -0.008963\n",
       "        ...   \n",
       "95   -0.037189\n",
       "96    0.009710\n",
       "97   -0.083080\n",
       "98    0.093279\n",
       "99    0.104131\n",
       "Name: 대전광역시 유성구, Length: 100, dtype: float64"
      ]
     },
     "execution_count": 37,
     "metadata": {},
     "output_type": "execute_result"
    }
   ],
   "source": [
    "emb_rslt2.loc['대전광역시 유성구']"
   ]
  },
  {
   "cell_type": "code",
   "execution_count": 18,
   "metadata": {},
   "outputs": [],
   "source": [
    "dembs2 = {}\n",
    "for i in emb_rslt2.index:\n",
    "    dembs[i] = np.array(emb_rslt2.loc[i])"
   ]
  },
  {
   "cell_type": "code",
   "execution_count": 31,
   "metadata": {},
   "outputs": [
    {
     "data": {
      "text/plain": [
       "[('대전광역시 유성구', 0.0),\n",
       " ('대전광역시 대덕구', 0.024904823785029784),\n",
       " ('대전광역시 서구', 0.068827701199901),\n",
       " ('대전광역시 중구', 0.17328407544961344),\n",
       " ('충청남도 계룡시', 0.18790621239724115),\n",
       " ('대전광역시 동구', 0.2243100083384818),\n",
       " ('충청북도 청주시 서원구', 0.7348296177413318),\n",
       " ('충청북도 청주시 흥덕구', 0.7628048008170047),\n",
       " ('충청북도 청주시 청원구', 0.7910221685479752),\n",
       " ('충청북도 증평군', 0.8107256940997971)]"
      ]
     },
     "execution_count": 31,
     "metadata": {},
     "output_type": "execute_result"
    }
   ],
   "source": [
    "print_top_n_similar('대전광역시 유성구', topn=10, emb_rslt = emb_rslt2)"
   ]
  },
  {
   "cell_type": "code",
   "execution_count": 32,
   "metadata": {},
   "outputs": [
    {
     "data": {
      "text/plain": [
       "[('서울특별시 강남구', 0.0),\n",
       " ('서울특별시 서초구', 0.03052444575903346),\n",
       " ('서울특별시 송파구', 0.051624325710166175),\n",
       " ('서울특별시 광진구', 0.15303430043612476),\n",
       " ('서울특별시 용산구', 0.15885655262654885),\n",
       " ('서울특별시 강동구', 0.21117608924513642),\n",
       " ('서울특별시 성동구', 0.30381412009223274),\n",
       " ('경기도 하남시', 0.3395132863203064),\n",
       " ('경기도 성남시 수정구', 0.3792026696193651),\n",
       " ('서울특별시 동작구', 0.42026791692129506)]"
      ]
     },
     "execution_count": 32,
     "metadata": {},
     "output_type": "execute_result"
    }
   ],
   "source": [
    "print_top_n_similar('서울특별시 강남구', topn=10, emb_rslt = emb_rslt2)"
   ]
  },
  {
   "cell_type": "code",
   "execution_count": 33,
   "metadata": {},
   "outputs": [
    {
     "data": {
      "text/plain": [
       "[('경기도 성남시 분당구', 0.0),\n",
       " ('경기도 성남시 중원구', 0.03665964025984758),\n",
       " ('경기도 성남시 수정구', 0.06900948582533639),\n",
       " ('경기도 용인시 수지구', 0.18162362000910992),\n",
       " ('경기도 용인시 기흥구', 0.35328828849866556),\n",
       " ('경기도 수원시 영통구', 0.39220810664904826),\n",
       " ('경기도 광주시', 0.4654603527010488),\n",
       " ('경기도 과천시', 0.5456422870867258),\n",
       " ('경기도 의왕시', 0.5973966814197318),\n",
       " ('경기도 안양시 동안구', 0.6139764414551396)]"
      ]
     },
     "execution_count": 33,
     "metadata": {},
     "output_type": "execute_result"
    }
   ],
   "source": [
    "print_top_n_similar('경기도 성남시 분당구', topn=10, emb_rslt = emb_rslt2)"
   ]
  }
 ],
 "metadata": {
  "kernelspec": {
   "display_name": "Python 3",
   "language": "python",
   "name": "python3"
  },
  "language_info": {
   "codemirror_mode": {
    "name": "ipython",
    "version": 3
   },
   "file_extension": ".py",
   "mimetype": "text/x-python",
   "name": "python",
   "nbconvert_exporter": "python",
   "pygments_lexer": "ipython3",
   "version": "3.7.6"
  }
 },
 "nbformat": 4,
 "nbformat_minor": 2
}
